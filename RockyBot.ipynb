{
 "cells": [
  {
   "cell_type": "code",
   "execution_count": 1,
   "id": "90476c34-2f78-4db2-91c9-f9a08319556f",
   "metadata": {},
   "outputs": [],
   "source": [
    "import os\n",
    "import random\n",
    "import requests\n",
    "import fiass\n",
    "from bs4 import BeautifulSoup\n",
    "from google.oauth2 import service_account  \n",
    "from googleapiclient.discovery import build \n",
    "import langchain\n",
    "from langchain_openai import OpenAI\n",
    "from langchain.schema import Document\n",
    "from langchain.chains import RetrievalQAWithSourcesChain\n",
    "from langchain.text_splitter import RecursiveCharacterTextSplitter\n",
    "from langchain_openai import OpenAIEmbeddings\n",
    "from langchain.vectorstores import FAISS\n",
    "from langchain.chains.qa_with_sources.loading import load_qa_with_sources_chain"
   ]
  },
  {
   "cell_type": "code",
   "execution_count": 2,
   "id": "c0952e9a-146c-4fc1-bfe4-0ff16095e629",
   "metadata": {},
   "outputs": [],
   "source": [
    "import json\n",
    "\n",
    "config = {}\n",
    "try:\n",
    "    with open(\"config.json\") as file:\n",
    "        config = json.load(file)\n",
    "except FileNotFoundError:\n",
    "    print(\"Error: config.json file not found\")"
   ]
  },
  {
   "cell_type": "code",
   "execution_count": 3,
   "id": "8657d478-663b-40d6-91fd-9394869aaaef",
   "metadata": {},
   "outputs": [],
   "source": [
    "# Load the API key from the JSON file\n",
    "def load_api_key():\n",
    "    with open('config.json', 'r') as file:\n",
    "        config = json.load(file)\n",
    "    return config[\"api_key\"]\n",
    "\n",
    "# Use the loaded API key\n",
    "api_key = load_api_key()"
   ]
  },
  {
   "cell_type": "code",
   "execution_count": 4,
   "id": "6a5996ab-a4ee-4f98-b4fb-24245f8b3eb3",
   "metadata": {},
   "outputs": [],
   "source": [
    "# Define the URLs to be used as knowledge base\n",
    "urls = [\n",
    "    \"https://businessday.ng/news/article/nigerias-biggest-single-local-investment-faces-age-old-threats/\",\n",
    "    \"https://en.wikipedia.org/wiki/Tesla,_Inc.\",\n",
    "    \"https://www.macrotrends.net/stocks/charts/TSLA/tesla/net-worth\",\n",
    "    \"https://edition.cnn.com/2024/07/21/politics/inside-bidens-exit-from-2024-race/index.html\",\n",
    "    \"https://edition.cnn.com/politics/live-news/joe-biden-election-drop-out-07-22-24/index.html\",\n",
    "    \"https://edition.cnn.com/2024/07/22/world/world-reaction-biden-exit-2024-us-presidential-race/index.html\",\n",
    "    \"https://edition.cnn.com/2024/07/21/politics/kamala-harris-biden-endorsement-democratic-nominee/index.html\"\n",
    "]\n",
    "\n",
    "def fetch_content_from_urls(urls):\n",
    "    documents = []\n",
    "    for url in urls:\n",
    "        response = requests.get(url)\n",
    "        soup = BeautifulSoup(response.content, 'html.parser')\n",
    "        content = soup.get_text()\n",
    "        \n",
    "        # Create a document with content and metadata\n",
    "        doc = Document(\n",
    "            page_content=content,\n",
    "            metadata={\"source\": url}\n",
    "        )\n",
    "        documents.append(doc)\n",
    "    return documents"
   ]
  },
  {
   "cell_type": "code",
   "execution_count": 5,
   "id": "d19fb26e-b05d-4b37-a51d-daf7683e3f5c",
   "metadata": {},
   "outputs": [],
   "source": [
    "data = fetch_content_from_urls(urls)"
   ]
  },
  {
   "cell_type": "code",
   "execution_count": 6,
   "id": "1bb67d28-e994-4bf2-aa9f-020060c26847",
   "metadata": {},
   "outputs": [
    {
     "data": {
      "text/plain": [
       "7"
      ]
     },
     "execution_count": 6,
     "metadata": {},
     "output_type": "execute_result"
    }
   ],
   "source": [
    "len(data)"
   ]
  },
  {
   "cell_type": "code",
   "execution_count": 7,
   "id": "54507326-aa4c-40f1-917c-abd1b3c45168",
   "metadata": {},
   "outputs": [
    {
     "data": {
      "text/plain": [
       "653"
      ]
     },
     "execution_count": 7,
     "metadata": {},
     "output_type": "execute_result"
    }
   ],
   "source": [
    "llm = OpenAI(temperature = 0.9, max_tokens = 500, openai_api_key=api_key)\n",
    "\n",
    "text_splitter = RecursiveCharacterTextSplitter(\n",
    "    chunk_size = 1000,\n",
    "    chunk_overlap = 200\n",
    ")\n",
    "\n",
    "docs = text_splitter.split_documents(data)\n",
    "len(docs)"
   ]
  },
  {
   "cell_type": "code",
   "execution_count": 9,
   "id": "043360e3-3cac-4237-9389-67892670b9d3",
   "metadata": {},
   "outputs": [],
   "source": [
    "embeddings = OpenAIEmbeddings(openai_api_key=api_key)\n",
    "\n",
    "vectorindex_openai = FAISS.from_documents(docs, embeddings)"
   ]
  },
  {
   "cell_type": "code",
   "execution_count": 10,
   "id": "9a7ed6ff-8f6b-4df0-a55e-ebc3958f339e",
   "metadata": {},
   "outputs": [
    {
     "data": {
      "text/plain": [
       "RetrievalQAWithSourcesChain(combine_documents_chain=MapReduceDocumentsChain(llm_chain=LLMChain(prompt=PromptTemplate(input_variables=['context', 'question'], template='Use the following portion of a long document to see if any of the text is relevant to answer the question. \\nReturn any relevant text verbatim.\\n{context}\\nQuestion: {question}\\nRelevant text, if any:'), llm=OpenAI(client=<openai.resources.completions.Completions object at 0x000001E188D80B00>, async_client=<openai.resources.completions.AsyncCompletions object at 0x000001E188D824B0>, temperature=0.9, max_tokens=500, openai_api_key=SecretStr('**********'), openai_proxy='')), reduce_documents_chain=ReduceDocumentsChain(combine_documents_chain=StuffDocumentsChain(llm_chain=LLMChain(prompt=PromptTemplate(input_variables=['question', 'summaries'], template='Given the following extracted parts of a long document and a question, create a final answer with references (\"SOURCES\"). \\nIf you don\\'t know the answer, just say that you don\\'t know. Don\\'t try to make up an answer.\\nALWAYS return a \"SOURCES\" part in your answer.\\n\\nQUESTION: Which state/country\\'s law governs the interpretation of the contract?\\n=========\\nContent: This Agreement is governed by English law and the parties submit to the exclusive jurisdiction of the English courts in  relation to any dispute (contractual or non-contractual) concerning this Agreement save that either party may apply to any court for an  injunction or other relief to protect its Intellectual Property Rights.\\nSource: 28-pl\\nContent: No Waiver. Failure or delay in exercising any right or remedy under this Agreement shall not constitute a waiver of such (or any other)  right or remedy.\\n\\n11.7 Severability. The invalidity, illegality or unenforceability of any term (or part of a term) of this Agreement shall not affect the continuation  in force of the remainder of the term (if any) and this Agreement.\\n\\n11.8 No Agency. Except as expressly stated otherwise, nothing in this Agreement shall create an agency, partnership or joint venture of any  kind between the parties.\\n\\n11.9 No Third-Party Beneficiaries.\\nSource: 30-pl\\nContent: (b) if Google believes, in good faith, that the Distributor has violated or caused Google to violate any Anti-Bribery Laws (as  defined in Clause 8.5) or that such a violation is reasonably likely to occur,\\nSource: 4-pl\\n=========\\nFINAL ANSWER: This Agreement is governed by English law.\\nSOURCES: 28-pl\\n\\nQUESTION: What did the president say about Michael Jackson?\\n=========\\nContent: Madam Speaker, Madam Vice President, our First Lady and Second Gentleman. Members of Congress and the Cabinet. Justices of the Supreme Court. My fellow Americans.  \\n\\nLast year COVID-19 kept us apart. This year we are finally together again. \\n\\nTonight, we meet as Democrats Republicans and Independents. But most importantly as Americans. \\n\\nWith a duty to one another to the American people to the Constitution. \\n\\nAnd with an unwavering resolve that freedom will always triumph over tyranny. \\n\\nSix days ago, Russia’s Vladimir Putin sought to shake the foundations of the free world thinking he could make it bend to his menacing ways. But he badly miscalculated. \\n\\nHe thought he could roll into Ukraine and the world would roll over. Instead he met a wall of strength he never imagined. \\n\\nHe met the Ukrainian people. \\n\\nFrom President Zelenskyy to every Ukrainian, their fearlessness, their courage, their determination, inspires the world. \\n\\nGroups of citizens blocking tanks with their bodies. Everyone from students to retirees teachers turned soldiers defending their homeland.\\nSource: 0-pl\\nContent: And we won’t stop. \\n\\nWe have lost so much to COVID-19. Time with one another. And worst of all, so much loss of life. \\n\\nLet’s use this moment to reset. Let’s stop looking at COVID-19 as a partisan dividing line and see it for what it is: A God-awful disease.  \\n\\nLet’s stop seeing each other as enemies, and start seeing each other for who we really are: Fellow Americans.  \\n\\nWe can’t change how divided we’ve been. But we can change how we move forward—on COVID-19 and other issues we must face together. \\n\\nI recently visited the New York City Police Department days after the funerals of Officer Wilbert Mora and his partner, Officer Jason Rivera. \\n\\nThey were responding to a 9-1-1 call when a man shot and killed them with a stolen gun. \\n\\nOfficer Mora was 27 years old. \\n\\nOfficer Rivera was 22. \\n\\nBoth Dominican Americans who’d grown up on the same streets they later chose to patrol as police officers. \\n\\nI spoke with their families and told them that we are forever in debt for their sacrifice, and we will carry on their mission to restore the trust and safety every community deserves.\\nSource: 24-pl\\nContent: And a proud Ukrainian people, who have known 30 years  of independence, have repeatedly shown that they will not tolerate anyone who tries to take their country backwards.  \\n\\nTo all Americans, I will be honest with you, as I’ve always promised. A Russian dictator, invading a foreign country, has costs around the world. \\n\\nAnd I’m taking robust action to make sure the pain of our sanctions  is targeted at Russia’s economy. And I will use every tool at our disposal to protect American businesses and consumers. \\n\\nTonight, I can announce that the United States has worked with 30 other countries to release 60 Million barrels of oil from reserves around the world.  \\n\\nAmerica will lead that effort, releasing 30 Million barrels from our own Strategic Petroleum Reserve. And we stand ready to do more if necessary, unified with our allies.  \\n\\nThese steps will help blunt gas prices here at home. And I know the news about what’s happening can seem alarming. \\n\\nBut I want you to know that we are going to be okay.\\nSource: 5-pl\\nContent: More support for patients and families. \\n\\nTo get there, I call on Congress to fund ARPA-H, the Advanced Research Projects Agency for Health. \\n\\nIt’s based on DARPA—the Defense Department project that led to the Internet, GPS, and so much more.  \\n\\nARPA-H will have a singular purpose—to drive breakthroughs in cancer, Alzheimer’s, diabetes, and more. \\n\\nA unity agenda for the nation. \\n\\nWe can do this. \\n\\nMy fellow Americans—tonight , we have gathered in a sacred space—the citadel of our democracy. \\n\\nIn this Capitol, generation after generation, Americans have debated great questions amid great strife, and have done great things. \\n\\nWe have fought for freedom, expanded liberty, defeated totalitarianism and terror. \\n\\nAnd built the strongest, freest, and most prosperous nation the world has ever known. \\n\\nNow is the hour. \\n\\nOur moment of responsibility. \\n\\nOur test of resolve and conscience, of history itself. \\n\\nIt is in this moment that our character is formed. Our purpose is found. Our future is forged. \\n\\nWell I know this nation.\\nSource: 34-pl\\n=========\\nFINAL ANSWER: The president did not mention Michael Jackson.\\nSOURCES:\\n\\nQUESTION: {question}\\n=========\\n{summaries}\\n=========\\nFINAL ANSWER:'), llm=OpenAI(client=<openai.resources.completions.Completions object at 0x000001E188D80B00>, async_client=<openai.resources.completions.AsyncCompletions object at 0x000001E188D824B0>, temperature=0.9, max_tokens=500, openai_api_key=SecretStr('**********'), openai_proxy='')), document_prompt=PromptTemplate(input_variables=['page_content', 'source'], template='Content: {page_content}\\nSource: {source}'), document_variable_name='summaries')), document_variable_name='context'), retriever=VectorStoreRetriever(tags=['FAISS', 'OpenAIEmbeddings'], vectorstore=<langchain_community.vectorstores.faiss.FAISS object at 0x000001E193057620>))"
      ]
     },
     "execution_count": 10,
     "metadata": {},
     "output_type": "execute_result"
    }
   ],
   "source": [
    "chain = RetrievalQAWithSourcesChain.from_llm(llm=llm, retriever=vectorindex_openai.as_retriever())\n",
    "chain"
   ]
  },
  {
   "cell_type": "code",
   "execution_count": 12,
   "id": "0e01daec-3fdf-4833-a751-14b0bfffb824",
   "metadata": {},
   "outputs": [
    {
     "name": "stdout",
     "output_type": "stream",
     "text": [
      "\u001b[32;1m\u001b[1;3m[chain/start]\u001b[0m \u001b[1m[chain:RetrievalQAWithSourcesChain] Entering Chain run with input:\n",
      "\u001b[0m{\n",
      "  \"question\": \"is biden still contesting to be american president?\"\n",
      "}\n",
      "\u001b[32;1m\u001b[1;3m[chain/start]\u001b[0m \u001b[1m[chain:RetrievalQAWithSourcesChain > chain:MapReduceDocumentsChain] Entering Chain run with input:\n",
      "\u001b[0m[inputs]\n",
      "\u001b[32;1m\u001b[1;3m[chain/start]\u001b[0m \u001b[1m[chain:RetrievalQAWithSourcesChain > chain:MapReduceDocumentsChain > chain:LLMChain] Entering Chain run with input:\n",
      "\u001b[0m{\n",
      "  \"input_list\": [\n",
      "    {\n",
      "      \"context\": \"Read more about the economy under Biden here.\\n\\n\\n\\n\\n\\n\\n\\n\\n\\n\\n\\n\\n\\n\\n\\n\\n\\n\\n\\n\\n            Link Copied!\\n        \\n\\n\\n\\n\\n\\n\\n\\n\\n\\n\\n\\n\\n\\n\\nAnswers to some key questions about Biden’s decision to exit the race\\n\\n                    From CNN's Jack Forrest and Danya Gainor\\n                \\n\\n\\n\\n\\n\\n\\n\\n\\n\\nPresident Joe Biden departs the White House on July 15, in Washington, DC.\\n\\nKevin Dietsch/Getty Images\\n\\n\\n\\n            With just over 100 days until the election, here’s what comes next for the rest of President Joe Biden’s presidency and for the presidential race:\\n    \\n\\nIs Biden still the president? Yes. Biden’s announcement exclusively pertained to his role as the Democratic candidate in the presidential election. It has no bearing on his current role as president, which he said he intends to serve out. Biden will remain president until his successor is sworn in on January 20, 2025.\",\n",
      "      \"question\": \"is biden still contesting to be american president?\"\n",
      "    },\n",
      "    {\n",
      "      \"context\": \"Kevin Dietsch/Getty Images\\n\\n\\n\\n\\n\\n\\n\\n\\nBiden addresses the nation from the White House Oval Office in July 2024. A day after the attempted assassination of former President Trump, Biden called on the country to \\\"lower the temperature in our politics.\\\"\\n\\nErin Schaff/Pool/The New York Times via AP\\n\\n\\n\\n\\n\\n\\nIn pictures: President Joe Biden\\n\\n\\n\\n          Prev\\n          \\n\\n\\n          Next\\n          \\n\\n\\n\\n\\n\\n        Stubborn resistance gives way\\n\\n\\n            Up until the moment he dropped out, Biden and his team insisted he was staying in.\\n    \\n\\n            Biden’s team created a public schedule for the president over the past week that was intended to show his ability to stay in the race.\\n    \\n\\n            On Monday, he held another television interview with NBC News’ Lester Holt, where he acknowledged his subpar debate performance while criticizing the media for focusing on his gaffes instead of Trump’s falsehoods. Biden again said he had no intention of stepping aside.\",\n",
      "      \"question\": \"is biden still contesting to be american president?\"\n",
      "    },\n",
      "    {\n",
      "      \"context\": \"It was a low-key way to reveal one of the most historic decisions in modern US politics, but time was not on Biden’s side to reach a decision. Never before has a president left a reelection race this close to Election Day – and for 24 days it seemed as if he were stubbornly planning to ride out the storm that followed the June 27 CNN debate in Atlanta.\\n    \\n\\n\\n\\n\\n            He spent the three weeks after the debate repeating that he was staying in the race against former President Donald Trump. The president dug in. His inner circle shrank to his closest aides and family. He was forced to retreat to Delaware, where he reached a decision in the last day and a half, finally conceding that a man loyal to the Democratic Party for more than half a century was seen as a drag on the ticket.\",\n",
      "      \"question\": \"is biden still contesting to be american president?\"\n",
      "    },\n",
      "    {\n",
      "      \"context\": \"Vice President Kamala Harris introduces U.S. President Joe Biden during a campaign rally at Girard College on May 29, 2024 in Philadelphia, Pennsylvania.\\n\\nAndrew Harnik/Getty Images\\n\\n\\n\\n\\nRelated article\\nWhat are your questions about the presidential election now that Biden is out?\\n\\n\\n\\n\\n            But in the end, the pressure on Biden from party leaders, rank-and-file lawmakers and donors – and the polling showing the perilous and potentially insurmountable path Biden faced amid a growing deficit with Trump – ultimately proved too much. Described as being more isolated than he had ever been, Biden could not withstand the push behind the scenes and in public. The blunt reality became a chorus of voices calling for the president to exit the race, like a boulder rolling down a mountain that only picked up momentum with each passing day.\",\n",
      "      \"question\": \"is biden still contesting to be american president?\"\n",
      "    }\n",
      "  ]\n",
      "}\n",
      "\u001b[32;1m\u001b[1;3m[llm/start]\u001b[0m \u001b[1m[chain:RetrievalQAWithSourcesChain > chain:MapReduceDocumentsChain > chain:LLMChain > llm:OpenAI] Entering LLM run with input:\n",
      "\u001b[0m{\n",
      "  \"prompts\": [\n",
      "    \"Use the following portion of a long document to see if any of the text is relevant to answer the question. \\nReturn any relevant text verbatim.\\nRead more about the economy under Biden here.\\n\\n\\n\\n\\n\\n\\n\\n\\n\\n\\n\\n\\n\\n\\n\\n\\n\\n\\n\\n\\n            Link Copied!\\n        \\n\\n\\n\\n\\n\\n\\n\\n\\n\\n\\n\\n\\n\\n\\nAnswers to some key questions about Biden’s decision to exit the race\\n\\n                    From CNN's Jack Forrest and Danya Gainor\\n                \\n\\n\\n\\n\\n\\n\\n\\n\\n\\nPresident Joe Biden departs the White House on July 15, in Washington, DC.\\n\\nKevin Dietsch/Getty Images\\n\\n\\n\\n            With just over 100 days until the election, here’s what comes next for the rest of President Joe Biden’s presidency and for the presidential race:\\n    \\n\\nIs Biden still the president? Yes. Biden’s announcement exclusively pertained to his role as the Democratic candidate in the presidential election. It has no bearing on his current role as president, which he said he intends to serve out. Biden will remain president until his successor is sworn in on January 20, 2025.\\nQuestion: is biden still contesting to be american president?\\nRelevant text, if any:\"\n",
      "  ]\n",
      "}\n",
      "\u001b[32;1m\u001b[1;3m[llm/start]\u001b[0m \u001b[1m[chain:RetrievalQAWithSourcesChain > chain:MapReduceDocumentsChain > chain:LLMChain > llm:OpenAI] Entering LLM run with input:\n",
      "\u001b[0m{\n",
      "  \"prompts\": [\n",
      "    \"Use the following portion of a long document to see if any of the text is relevant to answer the question. \\nReturn any relevant text verbatim.\\nKevin Dietsch/Getty Images\\n\\n\\n\\n\\n\\n\\n\\n\\nBiden addresses the nation from the White House Oval Office in July 2024. A day after the attempted assassination of former President Trump, Biden called on the country to \\\"lower the temperature in our politics.\\\"\\n\\nErin Schaff/Pool/The New York Times via AP\\n\\n\\n\\n\\n\\n\\nIn pictures: President Joe Biden\\n\\n\\n\\n          Prev\\n          \\n\\n\\n          Next\\n          \\n\\n\\n\\n\\n\\n        Stubborn resistance gives way\\n\\n\\n            Up until the moment he dropped out, Biden and his team insisted he was staying in.\\n    \\n\\n            Biden’s team created a public schedule for the president over the past week that was intended to show his ability to stay in the race.\\n    \\n\\n            On Monday, he held another television interview with NBC News’ Lester Holt, where he acknowledged his subpar debate performance while criticizing the media for focusing on his gaffes instead of Trump’s falsehoods. Biden again said he had no intention of stepping aside.\\nQuestion: is biden still contesting to be american president?\\nRelevant text, if any:\"\n",
      "  ]\n",
      "}\n",
      "\u001b[32;1m\u001b[1;3m[llm/start]\u001b[0m \u001b[1m[chain:RetrievalQAWithSourcesChain > chain:MapReduceDocumentsChain > chain:LLMChain > llm:OpenAI] Entering LLM run with input:\n",
      "\u001b[0m{\n",
      "  \"prompts\": [\n",
      "    \"Use the following portion of a long document to see if any of the text is relevant to answer the question. \\nReturn any relevant text verbatim.\\nIt was a low-key way to reveal one of the most historic decisions in modern US politics, but time was not on Biden’s side to reach a decision. Never before has a president left a reelection race this close to Election Day – and for 24 days it seemed as if he were stubbornly planning to ride out the storm that followed the June 27 CNN debate in Atlanta.\\n    \\n\\n\\n\\n\\n            He spent the three weeks after the debate repeating that he was staying in the race against former President Donald Trump. The president dug in. His inner circle shrank to his closest aides and family. He was forced to retreat to Delaware, where he reached a decision in the last day and a half, finally conceding that a man loyal to the Democratic Party for more than half a century was seen as a drag on the ticket.\\nQuestion: is biden still contesting to be american president?\\nRelevant text, if any:\"\n",
      "  ]\n",
      "}\n",
      "\u001b[32;1m\u001b[1;3m[llm/start]\u001b[0m \u001b[1m[chain:RetrievalQAWithSourcesChain > chain:MapReduceDocumentsChain > chain:LLMChain > llm:OpenAI] Entering LLM run with input:\n",
      "\u001b[0m{\n",
      "  \"prompts\": [\n",
      "    \"Use the following portion of a long document to see if any of the text is relevant to answer the question. \\nReturn any relevant text verbatim.\\nVice President Kamala Harris introduces U.S. President Joe Biden during a campaign rally at Girard College on May 29, 2024 in Philadelphia, Pennsylvania.\\n\\nAndrew Harnik/Getty Images\\n\\n\\n\\n\\nRelated article\\nWhat are your questions about the presidential election now that Biden is out?\\n\\n\\n\\n\\n            But in the end, the pressure on Biden from party leaders, rank-and-file lawmakers and donors – and the polling showing the perilous and potentially insurmountable path Biden faced amid a growing deficit with Trump – ultimately proved too much. Described as being more isolated than he had ever been, Biden could not withstand the push behind the scenes and in public. The blunt reality became a chorus of voices calling for the president to exit the race, like a boulder rolling down a mountain that only picked up momentum with each passing day.\\nQuestion: is biden still contesting to be american president?\\nRelevant text, if any:\"\n",
      "  ]\n",
      "}\n",
      "\u001b[36;1m\u001b[1;3m[llm/end]\u001b[0m \u001b[1m[chain:RetrievalQAWithSourcesChain > chain:MapReduceDocumentsChain > chain:LLMChain > llm:OpenAI] [1.40s] Exiting LLM run with output:\n",
      "\u001b[0m{\n",
      "  \"generations\": [\n",
      "    [\n",
      "      {\n",
      "        \"text\": \" \\\"Biden’s announcement exclusively pertained to his role as the Democratic candidate in the presidential election.\\\"\",\n",
      "        \"generation_info\": {\n",
      "          \"finish_reason\": \"stop\",\n",
      "          \"logprobs\": null\n",
      "        },\n",
      "        \"type\": \"Generation\"\n",
      "      }\n",
      "    ]\n",
      "  ],\n",
      "  \"llm_output\": {\n",
      "    \"token_usage\": {\n",
      "      \"completion_tokens\": 150,\n",
      "      \"total_tokens\": 1056,\n",
      "      \"prompt_tokens\": 906\n",
      "    },\n",
      "    \"model_name\": \"gpt-3.5-turbo-instruct\"\n",
      "  },\n",
      "  \"run\": null\n",
      "}\n",
      "\u001b[36;1m\u001b[1;3m[llm/end]\u001b[0m \u001b[1m[chain:RetrievalQAWithSourcesChain > chain:MapReduceDocumentsChain > chain:LLMChain > llm:OpenAI] [1.40s] Exiting LLM run with output:\n",
      "\u001b[0m{\n",
      "  \"generations\": [\n",
      "    [\n",
      "      {\n",
      "        \"text\": \"\\nNo, Joe Biden is no longer contesting to be the American president as he addressed the nation from the White House Oval Office in July 2024 and called for the country to \\\"lower the temperature in our politics\\\" following the attempted assassination of former President Trump.\",\n",
      "        \"generation_info\": {\n",
      "          \"finish_reason\": \"stop\",\n",
      "          \"logprobs\": null\n",
      "        },\n",
      "        \"type\": \"Generation\"\n",
      "      }\n",
      "    ]\n",
      "  ],\n",
      "  \"llm_output\": {\n",
      "    \"token_usage\": {},\n",
      "    \"model_name\": \"gpt-3.5-turbo-instruct\"\n",
      "  },\n",
      "  \"run\": null\n",
      "}\n",
      "\u001b[36;1m\u001b[1;3m[llm/end]\u001b[0m \u001b[1m[chain:RetrievalQAWithSourcesChain > chain:MapReduceDocumentsChain > chain:LLMChain > llm:OpenAI] [1.40s] Exiting LLM run with output:\n",
      "\u001b[0m{\n",
      "  \"generations\": [\n",
      "    [\n",
      "      {\n",
      "        \"text\": \" He spent the three weeks after the debate repeating that he was staying in the race against former President Donald Trump. The president dug in. \",\n",
      "        \"generation_info\": {\n",
      "          \"finish_reason\": \"stop\",\n",
      "          \"logprobs\": null\n",
      "        },\n",
      "        \"type\": \"Generation\"\n",
      "      }\n",
      "    ]\n",
      "  ],\n",
      "  \"llm_output\": {\n",
      "    \"token_usage\": {},\n",
      "    \"model_name\": \"gpt-3.5-turbo-instruct\"\n",
      "  },\n",
      "  \"run\": null\n",
      "}\n",
      "\u001b[36;1m\u001b[1;3m[llm/end]\u001b[0m \u001b[1m[chain:RetrievalQAWithSourcesChain > chain:MapReduceDocumentsChain > chain:LLMChain > llm:OpenAI] [1.40s] Exiting LLM run with output:\n",
      "\u001b[0m{\n",
      "  \"generations\": [\n",
      "    [\n",
      "      {\n",
      "        \"text\": \" But in the end, the pressure on Biden from party leaders, rank-and-file lawmakers and donors – and the polling showing the perilous and potentially insurmountable path Biden faced amid a growing deficit with Trump – ultimately proved too much.\",\n",
      "        \"generation_info\": {\n",
      "          \"finish_reason\": \"stop\",\n",
      "          \"logprobs\": null\n",
      "        },\n",
      "        \"type\": \"Generation\"\n",
      "      }\n",
      "    ]\n",
      "  ],\n",
      "  \"llm_output\": {\n",
      "    \"token_usage\": {},\n",
      "    \"model_name\": \"gpt-3.5-turbo-instruct\"\n",
      "  },\n",
      "  \"run\": null\n",
      "}\n",
      "\u001b[36;1m\u001b[1;3m[chain/end]\u001b[0m \u001b[1m[chain:RetrievalQAWithSourcesChain > chain:MapReduceDocumentsChain > chain:LLMChain] [1.40s] Exiting Chain run with output:\n",
      "\u001b[0m{\n",
      "  \"outputs\": [\n",
      "    {\n",
      "      \"text\": \" \\\"Biden’s announcement exclusively pertained to his role as the Democratic candidate in the presidential election.\\\"\"\n",
      "    },\n",
      "    {\n",
      "      \"text\": \"\\nNo, Joe Biden is no longer contesting to be the American president as he addressed the nation from the White House Oval Office in July 2024 and called for the country to \\\"lower the temperature in our politics\\\" following the attempted assassination of former President Trump.\"\n",
      "    },\n",
      "    {\n",
      "      \"text\": \" He spent the three weeks after the debate repeating that he was staying in the race against former President Donald Trump. The president dug in. \"\n",
      "    },\n",
      "    {\n",
      "      \"text\": \" But in the end, the pressure on Biden from party leaders, rank-and-file lawmakers and donors – and the polling showing the perilous and potentially insurmountable path Biden faced amid a growing deficit with Trump – ultimately proved too much.\"\n",
      "    }\n",
      "  ]\n",
      "}\n",
      "\u001b[32;1m\u001b[1;3m[chain/start]\u001b[0m \u001b[1m[chain:RetrievalQAWithSourcesChain > chain:MapReduceDocumentsChain > chain:LLMChain] Entering Chain run with input:\n",
      "\u001b[0m{\n",
      "  \"question\": \"is biden still contesting to be american president?\",\n",
      "  \"summaries\": \"Content:  \\\"Biden’s announcement exclusively pertained to his role as the Democratic candidate in the presidential election.\\\"\\nSource: https://edition.cnn.com/politics/live-news/joe-biden-election-drop-out-07-22-24/index.html\\n\\nContent: \\nNo, Joe Biden is no longer contesting to be the American president as he addressed the nation from the White House Oval Office in July 2024 and called for the country to \\\"lower the temperature in our politics\\\" following the attempted assassination of former President Trump.\\nSource: https://edition.cnn.com/2024/07/21/politics/inside-bidens-exit-from-2024-race/index.html\\n\\nContent:  He spent the three weeks after the debate repeating that he was staying in the race against former President Donald Trump. The president dug in. \\nSource: https://edition.cnn.com/politics/live-news/joe-biden-election-drop-out-07-22-24/index.html\\n\\nContent:  But in the end, the pressure on Biden from party leaders, rank-and-file lawmakers and donors – and the polling showing the perilous and potentially insurmountable path Biden faced amid a growing deficit with Trump – ultimately proved too much.\\nSource: https://edition.cnn.com/2024/07/21/politics/inside-bidens-exit-from-2024-race/index.html\"\n",
      "}\n",
      "\u001b[32;1m\u001b[1;3m[llm/start]\u001b[0m \u001b[1m[chain:RetrievalQAWithSourcesChain > chain:MapReduceDocumentsChain > chain:LLMChain > llm:OpenAI] Entering LLM run with input:\n",
      "\u001b[0m{\n",
      "  \"prompts\": [\n",
      "    \"Given the following extracted parts of a long document and a question, create a final answer with references (\\\"SOURCES\\\"). \\nIf you don't know the answer, just say that you don't know. Don't try to make up an answer.\\nALWAYS return a \\\"SOURCES\\\" part in your answer.\\n\\nQUESTION: Which state/country's law governs the interpretation of the contract?\\n=========\\nContent: This Agreement is governed by English law and the parties submit to the exclusive jurisdiction of the English courts in  relation to any dispute (contractual or non-contractual) concerning this Agreement save that either party may apply to any court for an  injunction or other relief to protect its Intellectual Property Rights.\\nSource: 28-pl\\nContent: No Waiver. Failure or delay in exercising any right or remedy under this Agreement shall not constitute a waiver of such (or any other)  right or remedy.\\n\\n11.7 Severability. The invalidity, illegality or unenforceability of any term (or part of a term) of this Agreement shall not affect the continuation  in force of the remainder of the term (if any) and this Agreement.\\n\\n11.8 No Agency. Except as expressly stated otherwise, nothing in this Agreement shall create an agency, partnership or joint venture of any  kind between the parties.\\n\\n11.9 No Third-Party Beneficiaries.\\nSource: 30-pl\\nContent: (b) if Google believes, in good faith, that the Distributor has violated or caused Google to violate any Anti-Bribery Laws (as  defined in Clause 8.5) or that such a violation is reasonably likely to occur,\\nSource: 4-pl\\n=========\\nFINAL ANSWER: This Agreement is governed by English law.\\nSOURCES: 28-pl\\n\\nQUESTION: What did the president say about Michael Jackson?\\n=========\\nContent: Madam Speaker, Madam Vice President, our First Lady and Second Gentleman. Members of Congress and the Cabinet. Justices of the Supreme Court. My fellow Americans.  \\n\\nLast year COVID-19 kept us apart. This year we are finally together again. \\n\\nTonight, we meet as Democrats Republicans and Independents. But most importantly as Americans. \\n\\nWith a duty to one another to the American people to the Constitution. \\n\\nAnd with an unwavering resolve that freedom will always triumph over tyranny. \\n\\nSix days ago, Russia’s Vladimir Putin sought to shake the foundations of the free world thinking he could make it bend to his menacing ways. But he badly miscalculated. \\n\\nHe thought he could roll into Ukraine and the world would roll over. Instead he met a wall of strength he never imagined. \\n\\nHe met the Ukrainian people. \\n\\nFrom President Zelenskyy to every Ukrainian, their fearlessness, their courage, their determination, inspires the world. \\n\\nGroups of citizens blocking tanks with their bodies. Everyone from students to retirees teachers turned soldiers defending their homeland.\\nSource: 0-pl\\nContent: And we won’t stop. \\n\\nWe have lost so much to COVID-19. Time with one another. And worst of all, so much loss of life. \\n\\nLet’s use this moment to reset. Let’s stop looking at COVID-19 as a partisan dividing line and see it for what it is: A God-awful disease.  \\n\\nLet’s stop seeing each other as enemies, and start seeing each other for who we really are: Fellow Americans.  \\n\\nWe can’t change how divided we’ve been. But we can change how we move forward—on COVID-19 and other issues we must face together. \\n\\nI recently visited the New York City Police Department days after the funerals of Officer Wilbert Mora and his partner, Officer Jason Rivera. \\n\\nThey were responding to a 9-1-1 call when a man shot and killed them with a stolen gun. \\n\\nOfficer Mora was 27 years old. \\n\\nOfficer Rivera was 22. \\n\\nBoth Dominican Americans who’d grown up on the same streets they later chose to patrol as police officers. \\n\\nI spoke with their families and told them that we are forever in debt for their sacrifice, and we will carry on their mission to restore the trust and safety every community deserves.\\nSource: 24-pl\\nContent: And a proud Ukrainian people, who have known 30 years  of independence, have repeatedly shown that they will not tolerate anyone who tries to take their country backwards.  \\n\\nTo all Americans, I will be honest with you, as I’ve always promised. A Russian dictator, invading a foreign country, has costs around the world. \\n\\nAnd I’m taking robust action to make sure the pain of our sanctions  is targeted at Russia’s economy. And I will use every tool at our disposal to protect American businesses and consumers. \\n\\nTonight, I can announce that the United States has worked with 30 other countries to release 60 Million barrels of oil from reserves around the world.  \\n\\nAmerica will lead that effort, releasing 30 Million barrels from our own Strategic Petroleum Reserve. And we stand ready to do more if necessary, unified with our allies.  \\n\\nThese steps will help blunt gas prices here at home. And I know the news about what’s happening can seem alarming. \\n\\nBut I want you to know that we are going to be okay.\\nSource: 5-pl\\nContent: More support for patients and families. \\n\\nTo get there, I call on Congress to fund ARPA-H, the Advanced Research Projects Agency for Health. \\n\\nIt’s based on DARPA—the Defense Department project that led to the Internet, GPS, and so much more.  \\n\\nARPA-H will have a singular purpose—to drive breakthroughs in cancer, Alzheimer’s, diabetes, and more. \\n\\nA unity agenda for the nation. \\n\\nWe can do this. \\n\\nMy fellow Americans—tonight , we have gathered in a sacred space—the citadel of our democracy. \\n\\nIn this Capitol, generation after generation, Americans have debated great questions amid great strife, and have done great things. \\n\\nWe have fought for freedom, expanded liberty, defeated totalitarianism and terror. \\n\\nAnd built the strongest, freest, and most prosperous nation the world has ever known. \\n\\nNow is the hour. \\n\\nOur moment of responsibility. \\n\\nOur test of resolve and conscience, of history itself. \\n\\nIt is in this moment that our character is formed. Our purpose is found. Our future is forged. \\n\\nWell I know this nation.\\nSource: 34-pl\\n=========\\nFINAL ANSWER: The president did not mention Michael Jackson.\\nSOURCES:\\n\\nQUESTION: is biden still contesting to be american president?\\n=========\\nContent:  \\\"Biden’s announcement exclusively pertained to his role as the Democratic candidate in the presidential election.\\\"\\nSource: https://edition.cnn.com/politics/live-news/joe-biden-election-drop-out-07-22-24/index.html\\n\\nContent: \\nNo, Joe Biden is no longer contesting to be the American president as he addressed the nation from the White House Oval Office in July 2024 and called for the country to \\\"lower the temperature in our politics\\\" following the attempted assassination of former President Trump.\\nSource: https://edition.cnn.com/2024/07/21/politics/inside-bidens-exit-from-2024-race/index.html\\n\\nContent:  He spent the three weeks after the debate repeating that he was staying in the race against former President Donald Trump. The president dug in. \\nSource: https://edition.cnn.com/politics/live-news/joe-biden-election-drop-out-07-22-24/index.html\\n\\nContent:  But in the end, the pressure on Biden from party leaders, rank-and-file lawmakers and donors – and the polling showing the perilous and potentially insurmountable path Biden faced amid a growing deficit with Trump – ultimately proved too much.\\nSource: https://edition.cnn.com/2024/07/21/politics/inside-bidens-exit-from-2024-race/index.html\\n=========\\nFINAL ANSWER:\"\n",
      "  ]\n",
      "}\n",
      "\u001b[36;1m\u001b[1;3m[llm/end]\u001b[0m \u001b[1m[chain:RetrievalQAWithSourcesChain > chain:MapReduceDocumentsChain > chain:LLMChain > llm:OpenAI] [1.47s] Exiting LLM run with output:\n",
      "\u001b[0m{\n",
      "  \"generations\": [\n",
      "    [\n",
      "      {\n",
      "        \"text\": \" No, Joe Biden announced in July 2024 that he is no longer contesting to be the American president.\\nSOURCES: https://edition.cnn.com/politics/live-news/joe-biden-election-drop-out-07-22-24/index.html\\nhttps://edition.cnn.com/2024/07/21/politics/inside-bidens-exit-from-2024-race/index.html\",\n",
      "        \"generation_info\": {\n",
      "          \"finish_reason\": \"stop\",\n",
      "          \"logprobs\": null\n",
      "        },\n",
      "        \"type\": \"Generation\"\n",
      "      }\n",
      "    ]\n",
      "  ],\n",
      "  \"llm_output\": {\n",
      "    \"token_usage\": {\n",
      "      \"completion_tokens\": 82,\n",
      "      \"total_tokens\": 1717,\n",
      "      \"prompt_tokens\": 1635\n",
      "    },\n",
      "    \"model_name\": \"gpt-3.5-turbo-instruct\"\n",
      "  },\n",
      "  \"run\": null\n",
      "}\n",
      "\u001b[36;1m\u001b[1;3m[chain/end]\u001b[0m \u001b[1m[chain:RetrievalQAWithSourcesChain > chain:MapReduceDocumentsChain > chain:LLMChain] [1.47s] Exiting Chain run with output:\n",
      "\u001b[0m{\n",
      "  \"text\": \" No, Joe Biden announced in July 2024 that he is no longer contesting to be the American president.\\nSOURCES: https://edition.cnn.com/politics/live-news/joe-biden-election-drop-out-07-22-24/index.html\\nhttps://edition.cnn.com/2024/07/21/politics/inside-bidens-exit-from-2024-race/index.html\"\n",
      "}\n",
      "\u001b[36;1m\u001b[1;3m[chain/end]\u001b[0m \u001b[1m[chain:RetrievalQAWithSourcesChain > chain:MapReduceDocumentsChain] [2.88s] Exiting Chain run with output:\n",
      "\u001b[0m{\n",
      "  \"output_text\": \" No, Joe Biden announced in July 2024 that he is no longer contesting to be the American president.\\nSOURCES: https://edition.cnn.com/politics/live-news/joe-biden-election-drop-out-07-22-24/index.html\\nhttps://edition.cnn.com/2024/07/21/politics/inside-bidens-exit-from-2024-race/index.html\"\n",
      "}\n",
      "\u001b[36;1m\u001b[1;3m[chain/end]\u001b[0m \u001b[1m[chain:RetrievalQAWithSourcesChain] [3.55s] Exiting Chain run with output:\n",
      "\u001b[0m{\n",
      "  \"answer\": \" No, Joe Biden announced in July 2024 that he is no longer contesting to be the American president.\\n\",\n",
      "  \"sources\": \"https://edition.cnn.com/politics/live-news/joe-biden-election-drop-out-07-22-24/index.html\"\n",
      "}\n"
     ]
    },
    {
     "data": {
      "text/plain": [
       "{'answer': ' No, Joe Biden announced in July 2024 that he is no longer contesting to be the American president.\\n',\n",
       " 'sources': 'https://edition.cnn.com/politics/live-news/joe-biden-election-drop-out-07-22-24/index.html'}"
      ]
     },
     "execution_count": 12,
     "metadata": {},
     "output_type": "execute_result"
    }
   ],
   "source": [
    "query = \"is biden still contesting to be american president?\"\n",
    "\n",
    "langchain.debug = True\n",
    "\n",
    "chain({\"question\": query}, return_only_outputs=True)"
   ]
  },
  {
   "cell_type": "code",
   "execution_count": null,
   "id": "5e8fb3cb-fbd6-4a73-94b0-8a206670e04b",
   "metadata": {},
   "outputs": [],
   "source": []
  }
 ],
 "metadata": {
  "kernelspec": {
   "display_name": "Python 3 (ipykernel)",
   "language": "python",
   "name": "python3"
  },
  "language_info": {
   "codemirror_mode": {
    "name": "ipython",
    "version": 3
   },
   "file_extension": ".py",
   "mimetype": "text/x-python",
   "name": "python",
   "nbconvert_exporter": "python",
   "pygments_lexer": "ipython3",
   "version": "3.12.4"
  }
 },
 "nbformat": 4,
 "nbformat_minor": 5
}
